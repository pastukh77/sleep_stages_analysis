{
  "nbformat": 4,
  "nbformat_minor": 0,
  "metadata": {
    "colab": {
      "name": "Sleep stage classification.ipynb",
      "provenance": [],
      "collapsed_sections": []
    },
    "kernelspec": {
      "name": "python3",
      "display_name": "Python 3"
    },
    "language_info": {
      "name": "python"
    }
  },
  "cells": [
    {
      "cell_type": "code",
      "execution_count": 63,
      "metadata": {
        "id": "D2nAWxA6lJ-5"
      },
      "outputs": [],
      "source": [
        "# !pip install mne"
      ]
    },
    {
      "cell_type": "code",
      "source": [
        "import numpy as np\n",
        "import matplotlib.pyplot as plt\n",
        "\n",
        "import mne\n",
        "from mne.datasets.sleep_physionet.age import fetch_data\n",
        "from mne.time_frequency import psd_welch\n",
        "\n",
        "from sklearn.ensemble import RandomForestClassifier\n",
        "from sklearn.metrics import accuracy_score\n",
        "from sklearn.metrics import confusion_matrix\n",
        "from sklearn.metrics import classification_report\n",
        "from sklearn.pipeline import make_pipeline\n",
        "from sklearn.preprocessing import FunctionTransformer\n",
        "\n",
        "from tqdm import tqdm"
      ],
      "metadata": {
        "id": "mhxcJhvnlLki"
      },
      "execution_count": 64,
      "outputs": []
    },
    {
      "cell_type": "code",
      "source": [
        "train_subjects = fetch_data(subjects=list(range(18)), recording=[1])\n",
        "raw_train, annotations_train = [], []\n",
        "for i, subj in enumerate(train_subjects): \n",
        "  raw_train.append(mne.io.read_raw_edf(subj[0], stim_channel='marker', misc=['rectal']))\n",
        "  annotations_train.append(mne.read_annotations(subj[1]))\n",
        "  raw_train[i].set_annotations(annotations_train[i], emit_warning=False)"
      ],
      "metadata": {
        "colab": {
          "base_uri": "https://localhost:8080/"
        },
        "id": "6rcwC_ftlNvu",
        "outputId": "caca34f2-b91a-4945-c79a-f44ae28a7807"
      },
      "execution_count": 72,
      "outputs": [
        {
          "output_type": "stream",
          "name": "stdout",
          "text": [
            "Using default location ~/mne_data for PHYSIONET_SLEEP...\n",
            "Extracting EDF parameters from /root/mne_data/physionet-sleep-data/SC4001E0-PSG.edf...\n",
            "EDF file detected\n",
            "Setting channel info structure...\n",
            "Creating raw.info structure...\n",
            "Extracting EDF parameters from /root/mne_data/physionet-sleep-data/SC4011E0-PSG.edf...\n",
            "EDF file detected\n",
            "Setting channel info structure...\n",
            "Creating raw.info structure...\n",
            "Extracting EDF parameters from /root/mne_data/physionet-sleep-data/SC4021E0-PSG.edf...\n",
            "EDF file detected\n",
            "Setting channel info structure...\n",
            "Creating raw.info structure...\n",
            "Extracting EDF parameters from /root/mne_data/physionet-sleep-data/SC4031E0-PSG.edf...\n",
            "EDF file detected\n",
            "Setting channel info structure...\n",
            "Creating raw.info structure...\n",
            "Extracting EDF parameters from /root/mne_data/physionet-sleep-data/SC4041E0-PSG.edf...\n",
            "EDF file detected\n",
            "Setting channel info structure...\n",
            "Creating raw.info structure...\n",
            "Extracting EDF parameters from /root/mne_data/physionet-sleep-data/SC4051E0-PSG.edf...\n",
            "EDF file detected\n",
            "Setting channel info structure...\n",
            "Creating raw.info structure...\n",
            "Extracting EDF parameters from /root/mne_data/physionet-sleep-data/SC4061E0-PSG.edf...\n",
            "EDF file detected\n",
            "Setting channel info structure...\n",
            "Creating raw.info structure...\n",
            "Extracting EDF parameters from /root/mne_data/physionet-sleep-data/SC4071E0-PSG.edf...\n",
            "EDF file detected\n",
            "Setting channel info structure...\n",
            "Creating raw.info structure...\n",
            "Extracting EDF parameters from /root/mne_data/physionet-sleep-data/SC4081E0-PSG.edf...\n",
            "EDF file detected\n",
            "Setting channel info structure...\n",
            "Creating raw.info structure...\n",
            "Extracting EDF parameters from /root/mne_data/physionet-sleep-data/SC4091E0-PSG.edf...\n",
            "EDF file detected\n",
            "Setting channel info structure...\n",
            "Creating raw.info structure...\n",
            "Extracting EDF parameters from /root/mne_data/physionet-sleep-data/SC4101E0-PSG.edf...\n",
            "EDF file detected\n",
            "Setting channel info structure...\n",
            "Creating raw.info structure...\n",
            "Extracting EDF parameters from /root/mne_data/physionet-sleep-data/SC4111E0-PSG.edf...\n",
            "EDF file detected\n",
            "Setting channel info structure...\n",
            "Creating raw.info structure...\n",
            "Extracting EDF parameters from /root/mne_data/physionet-sleep-data/SC4121E0-PSG.edf...\n",
            "EDF file detected\n",
            "Setting channel info structure...\n",
            "Creating raw.info structure...\n",
            "Extracting EDF parameters from /root/mne_data/physionet-sleep-data/SC4131E0-PSG.edf...\n",
            "EDF file detected\n",
            "Setting channel info structure...\n",
            "Creating raw.info structure...\n",
            "Extracting EDF parameters from /root/mne_data/physionet-sleep-data/SC4141E0-PSG.edf...\n",
            "EDF file detected\n",
            "Setting channel info structure...\n",
            "Creating raw.info structure...\n",
            "Extracting EDF parameters from /root/mne_data/physionet-sleep-data/SC4151E0-PSG.edf...\n",
            "EDF file detected\n",
            "Setting channel info structure...\n",
            "Creating raw.info structure...\n",
            "Extracting EDF parameters from /root/mne_data/physionet-sleep-data/SC4161E0-PSG.edf...\n",
            "EDF file detected\n",
            "Setting channel info structure...\n",
            "Creating raw.info structure...\n",
            "Extracting EDF parameters from /root/mne_data/physionet-sleep-data/SC4171E0-PSG.edf...\n",
            "EDF file detected\n",
            "Setting channel info structure...\n",
            "Creating raw.info structure...\n"
          ]
        }
      ]
    },
    {
      "cell_type": "code",
      "source": [
        "annotation_desc_2_event_id = {'Sleep stage W': 1,\n",
        "                              'Sleep stage 1': 2,\n",
        "                              'Sleep stage 2': 3,\n",
        "                              'Sleep stage 3': 4,\n",
        "                              'Sleep stage 4': 4,\n",
        "                              'Sleep stage R': 5}\n",
        "\n",
        "# keep last 30-min wake events before sleep and first 30-min wake events after\n",
        "# sleep and redefine annotations on raw data\n",
        "for i, annot_train in enumerate(annotations_train):\n",
        "  annotations_train[i].crop(annot_train[1]['onset'] - 30 * 60,\n",
        "                  annot_train[-2]['onset'] + 30 * 60)\n",
        "  raw_train[i].set_annotations(annot_train, emit_warning=False)\n",
        "\n",
        "  events_train, _ = mne.events_from_annotations(\n",
        "      raw_train[i], event_id=annotation_desc_2_event_id, chunk_duration=30.)\n",
        "\n",
        "  # create a new event_id that unifies stages 3 and 4\n",
        "  event_id = {'Sleep stage W': 1,\n",
        "              'Sleep stage 1': 2,\n",
        "              'Sleep stage 2': 3,\n",
        "              'Sleep stage 3/4': 4,\n",
        "              'Sleep stage R': 5}\n",
        "\n",
        "  # plot events\n",
        "  # fig = mne.viz.plot_events(events_train, event_id=event_id,\n",
        "  #                           sfreq=raw_train[i].info['sfreq'],\n",
        "  #                           first_samp=events_train[0, 0])\n",
        "\n",
        "  # # keep the color-code for further plotting\n",
        "  # stage_colors = plt.rcParams['axes.prop_cycle'].by_key()['color']"
      ],
      "metadata": {
        "colab": {
          "base_uri": "https://localhost:8080/"
        },
        "id": "GrZQS5uTm686",
        "outputId": "268222e3-9c05-473e-b00b-3b9acb08f55e"
      },
      "execution_count": 73,
      "outputs": [
        {
          "output_type": "stream",
          "name": "stdout",
          "text": [
            "Used Annotations descriptions: ['Sleep stage 1', 'Sleep stage 2', 'Sleep stage 3', 'Sleep stage 4', 'Sleep stage R', 'Sleep stage W']\n",
            "Used Annotations descriptions: ['Sleep stage 1', 'Sleep stage 2', 'Sleep stage 3', 'Sleep stage 4', 'Sleep stage R', 'Sleep stage W']\n",
            "Used Annotations descriptions: ['Sleep stage 1', 'Sleep stage 2', 'Sleep stage 3', 'Sleep stage 4', 'Sleep stage R', 'Sleep stage W']\n",
            "Used Annotations descriptions: ['Sleep stage 1', 'Sleep stage 2', 'Sleep stage 3', 'Sleep stage 4', 'Sleep stage R', 'Sleep stage W']\n",
            "Used Annotations descriptions: ['Sleep stage 1', 'Sleep stage 2', 'Sleep stage 3', 'Sleep stage R', 'Sleep stage W']\n",
            "Used Annotations descriptions: ['Sleep stage 1', 'Sleep stage 2', 'Sleep stage 3', 'Sleep stage 4', 'Sleep stage R', 'Sleep stage W']\n",
            "Used Annotations descriptions: ['Sleep stage 1', 'Sleep stage 2', 'Sleep stage 3', 'Sleep stage 4', 'Sleep stage R', 'Sleep stage W']\n",
            "Used Annotations descriptions: ['Sleep stage 1', 'Sleep stage 2', 'Sleep stage 3', 'Sleep stage 4', 'Sleep stage R', 'Sleep stage W']\n",
            "Used Annotations descriptions: ['Sleep stage 1', 'Sleep stage 2', 'Sleep stage 3', 'Sleep stage 4', 'Sleep stage R', 'Sleep stage W']\n",
            "Used Annotations descriptions: ['Sleep stage 1', 'Sleep stage 2', 'Sleep stage 3', 'Sleep stage 4', 'Sleep stage R', 'Sleep stage W']\n",
            "Used Annotations descriptions: ['Sleep stage 1', 'Sleep stage 2', 'Sleep stage 3', 'Sleep stage R', 'Sleep stage W']\n",
            "Used Annotations descriptions: ['Sleep stage 1', 'Sleep stage 2', 'Sleep stage 3', 'Sleep stage 4', 'Sleep stage R', 'Sleep stage W']\n",
            "Used Annotations descriptions: ['Sleep stage 1', 'Sleep stage 2', 'Sleep stage 3', 'Sleep stage 4', 'Sleep stage R', 'Sleep stage W']\n",
            "Used Annotations descriptions: ['Sleep stage 1', 'Sleep stage 2', 'Sleep stage 3', 'Sleep stage 4', 'Sleep stage R', 'Sleep stage W']\n",
            "Used Annotations descriptions: ['Sleep stage 1', 'Sleep stage 2', 'Sleep stage 3', 'Sleep stage 4', 'Sleep stage R', 'Sleep stage W']\n",
            "Used Annotations descriptions: ['Sleep stage 1', 'Sleep stage 2', 'Sleep stage 3', 'Sleep stage 4', 'Sleep stage R', 'Sleep stage W']\n",
            "Used Annotations descriptions: ['Sleep stage 1', 'Sleep stage 2', 'Sleep stage 3', 'Sleep stage 4', 'Sleep stage R', 'Sleep stage W']\n",
            "Used Annotations descriptions: ['Sleep stage 1', 'Sleep stage 2', 'Sleep stage 3', 'Sleep stage 4', 'Sleep stage R', 'Sleep stage W']\n"
          ]
        }
      ]
    },
    {
      "cell_type": "code",
      "source": [
        "# fig, axs = plt.subplots(len(train_subjects), figsize=(25, 50))\n",
        "epochs_train_lst = []\n",
        "for i, raw in tqdm(enumerate(raw_train)):\n",
        "  tmax = 30. - 1. / raw.info['sfreq']  # tmax in included\n",
        "\n",
        "  epochs_train = mne.Epochs(raw=raw, events=events_train,\n",
        "                            event_id=event_id, tmin=0., tmax=tmax, baseline=None)\n",
        "  epochs_train_lst.append(epochs_train)\n",
        "#   stages = sorted(event_id.keys())\n",
        "\n",
        "#   for stage, color in zip(stages, stage_colors):\n",
        "#     epochs_train[stage].plot_psd(area_mode=None, color=color, ax=axs[i],\n",
        "#                           fmin=0.1, fmax=20., show=False,\n",
        "#                           average=True, spatial_colors=False)\n",
        "#     axs[i].set(title=\"Subject1\", xlabel='Frequency (Hz)')\n",
        "\n",
        "#   axs[i].set(ylabel='µV^2/Hz (dB)')\n",
        "#   axs[i].legend(axs[i].lines[2::3], stages)\n",
        "# plt.show()"
      ],
      "metadata": {
        "colab": {
          "base_uri": "https://localhost:8080/"
        },
        "id": "GHJTLSXrlpHQ",
        "outputId": "dfd79ac9-aa88-4074-d715-e5010b096fd7"
      },
      "execution_count": 74,
      "outputs": [
        {
          "output_type": "stream",
          "name": "stderr",
          "text": [
            "\r0it [00:00, ?it/s]"
          ]
        },
        {
          "output_type": "stream",
          "name": "stdout",
          "text": [
            "Not setting metadata\n",
            "Not setting metadata\n",
            "1002 matching events found\n",
            "No baseline correction applied\n",
            "0 projection items activated\n",
            "Not setting metadata\n",
            "Not setting metadata\n",
            "1002 matching events found\n",
            "No baseline correction applied\n",
            "0 projection items activated\n",
            "Not setting metadata\n",
            "Not setting metadata\n",
            "1002 matching events found\n",
            "No baseline correction applied\n",
            "0 projection items activated\n",
            "Not setting metadata\n",
            "Not setting metadata\n",
            "1002 matching events found\n",
            "No baseline correction applied\n",
            "0 projection items activated\n"
          ]
        },
        {
          "output_type": "stream",
          "name": "stderr",
          "text": [
            "\r4it [00:00, 31.08it/s]"
          ]
        },
        {
          "output_type": "stream",
          "name": "stdout",
          "text": [
            "Not setting metadata\n",
            "Not setting metadata\n",
            "1002 matching events found\n",
            "No baseline correction applied\n",
            "0 projection items activated\n",
            "Not setting metadata\n",
            "Not setting metadata\n",
            "1002 matching events found\n",
            "No baseline correction applied\n",
            "0 projection items activated\n",
            "Not setting metadata\n",
            "Not setting metadata\n",
            "1002 matching events found\n",
            "No baseline correction applied\n",
            "0 projection items activated\n",
            "Not setting metadata\n",
            "Not setting metadata\n",
            "1002 matching events found\n",
            "No baseline correction applied\n",
            "0 projection items activated\n"
          ]
        },
        {
          "output_type": "stream",
          "name": "stderr",
          "text": [
            "\r8it [00:00, 34.86it/s]"
          ]
        },
        {
          "output_type": "stream",
          "name": "stdout",
          "text": [
            "Not setting metadata\n",
            "Not setting metadata\n",
            "1002 matching events found\n",
            "No baseline correction applied\n",
            "0 projection items activated\n",
            "Not setting metadata\n",
            "Not setting metadata\n",
            "1002 matching events found\n",
            "No baseline correction applied\n",
            "0 projection items activated\n",
            "Not setting metadata\n",
            "Not setting metadata\n",
            "1002 matching events found\n",
            "No baseline correction applied\n",
            "0 projection items activated\n",
            "Not setting metadata\n",
            "Not setting metadata\n",
            "1002 matching events found\n",
            "No baseline correction applied\n",
            "0 projection items activated\n"
          ]
        },
        {
          "output_type": "stream",
          "name": "stderr",
          "text": [
            "\r12it [00:00, 35.91it/s]"
          ]
        },
        {
          "output_type": "stream",
          "name": "stdout",
          "text": [
            "Not setting metadata\n",
            "Not setting metadata\n",
            "1002 matching events found\n",
            "No baseline correction applied\n",
            "0 projection items activated\n",
            "Not setting metadata\n",
            "Not setting metadata\n",
            "1002 matching events found\n",
            "No baseline correction applied\n",
            "0 projection items activated\n",
            "Not setting metadata\n",
            "Not setting metadata\n",
            "1002 matching events found\n",
            "No baseline correction applied\n",
            "0 projection items activated\n",
            "Not setting metadata\n",
            "Not setting metadata\n",
            "1002 matching events found\n",
            "No baseline correction applied\n",
            "0 projection items activated\n"
          ]
        },
        {
          "output_type": "stream",
          "name": "stderr",
          "text": [
            "\r16it [00:00, 32.72it/s]"
          ]
        },
        {
          "output_type": "stream",
          "name": "stdout",
          "text": [
            "Not setting metadata\n",
            "Not setting metadata\n",
            "1002 matching events found\n",
            "No baseline correction applied\n",
            "0 projection items activated\n",
            "Not setting metadata\n",
            "Not setting metadata\n",
            "1002 matching events found\n",
            "No baseline correction applied\n",
            "0 projection items activated\n"
          ]
        },
        {
          "output_type": "stream",
          "name": "stderr",
          "text": [
            "\r18it [00:00, 32.46it/s]\n"
          ]
        }
      ]
    },
    {
      "cell_type": "code",
      "source": [
        "def eeg_power_band(epochs):\n",
        "    \"\"\"EEG relative power band feature extraction.\n",
        "\n",
        "    This function takes an ``mne.Epochs`` object and creates EEG features based\n",
        "    on relative power in specific frequency bands that are compatible with\n",
        "    scikit-learn.\n",
        "\n",
        "    Parameters\n",
        "    ----------\n",
        "    epochs : Epochs\n",
        "        The data.\n",
        "\n",
        "    Returns\n",
        "    -------\n",
        "    X : numpy array of shape [n_samples, 5]\n",
        "        Transformed data.\n",
        "    \"\"\"\n",
        "    # specific frequency bands\n",
        "    FREQ_BANDS = {\"delta\": [0.5, 4.5],\n",
        "                  \"theta\": [4.5, 8.5],\n",
        "                  \"alpha\": [8.5, 11.5],\n",
        "                  \"sigma\": [11.5, 15.5],\n",
        "                  \"beta\": [15.5, 30]}\n",
        "\n",
        "    psds, freqs = psd_welch(epochs, picks='eeg', fmin=0.5, fmax=30.)\n",
        "    # Normalize the PSDs\n",
        "    psds /= np.sum(psds, axis=-1, keepdims=True)\n",
        "\n",
        "    X = []\n",
        "    for fmin, fmax in FREQ_BANDS.values():\n",
        "        psds_band = psds[:, :, (freqs >= fmin) & (freqs < fmax)].mean(axis=-1)\n",
        "        X.append(psds_band.reshape(len(psds), -1))\n",
        "\n",
        "    return np.concatenate(X, axis=1)"
      ],
      "metadata": {
        "id": "TAiOf5WRAr65"
      },
      "execution_count": 75,
      "outputs": []
    },
    {
      "cell_type": "code",
      "source": [
        "test_subject1, test_subject2 = fetch_data(subjects=[20, 21], recording=[1])\n",
        "\n",
        "raw_test = mne.io.read_raw_edf(test_subject1[0], stim_channel='marker', misc=['rectal'])\n",
        "\n",
        "annotations_test = mne.read_annotations(test_subject1[1])\n",
        "raw_test.set_annotations(annotations_test, emit_warning=False)"
      ],
      "metadata": {
        "colab": {
          "base_uri": "https://localhost:8080/",
          "height": 383
        },
        "id": "MhzxwBYCLk79",
        "outputId": "5d3bf523-e356-459e-8132-b81c740bcc46"
      },
      "execution_count": 76,
      "outputs": [
        {
          "output_type": "stream",
          "name": "stdout",
          "text": [
            "Using default location ~/mne_data for PHYSIONET_SLEEP...\n",
            "Extracting EDF parameters from /root/mne_data/physionet-sleep-data/SC4201E0-PSG.edf...\n",
            "EDF file detected\n",
            "Setting channel info structure...\n",
            "Creating raw.info structure...\n"
          ]
        },
        {
          "output_type": "execute_result",
          "data": {
            "text/html": [
              "\n",
              "\n",
              "<table class=\"table table-hover table-striped table-sm table-responsive small\">\n",
              "    <tr>\n",
              "        <th>Measurement date</th>\n",
              "        <td>May 08, 1989  16:18:00 GMT</td>\n",
              "        \n",
              "    </tr>\n",
              "    <tr>\n",
              "        <th>Experimenter</th>\n",
              "<td>Unknown</td>\n",
              "    </tr>\n",
              "        <th>Participant</th>\n",
              "<td>Unknown</td>\n",
              "    </tr>\n",
              "    <tr>\n",
              "        <th>Digitized points</th>\n",
              "        <td>Not available</td>\n",
              "    </tr>\n",
              "    <tr>\n",
              "        <th>Good channels</th>\n",
              "        <td>7 EEG</td>\n",
              "    </tr>\n",
              "    <tr>\n",
              "        <th>Bad channels</th>\n",
              "        <td>None</td>\n",
              "    </tr>\n",
              "    <tr>\n",
              "        <th>EOG channels</th>\n",
              "        <td>Not available</td>\n",
              "    </tr>\n",
              "    <tr>\n",
              "        <th>ECG channels</th>\n",
              "        <td>Not available</td>\n",
              "    <tr>\n",
              "        <th>Sampling frequency</th>\n",
              "        <td>100.00 Hz</td>\n",
              "    </tr>\n",
              "    <tr>\n",
              "        <th>Highpass</th>\n",
              "        <td>0.50 Hz</td>\n",
              "    </tr>\n",
              "    <tr>\n",
              "        <th>Lowpass</th>\n",
              "        <td>100.00 Hz</td>\n",
              "    </tr>\n",
              "\n",
              "    <tr>\n",
              "        <th>Filenames</th>\n",
              "        <td>SC4201E0-PSG.edf</td>\n",
              "    </tr>\n",
              "    <tr>\n",
              "        <th>Duration</th>\n",
              "        <td>23:21:59 (HH:MM:SS)</td>\n",
              "    </tr>\n",
              "</table>\n"
            ],
            "text/plain": [
              "<RawEDF | SC4201E0-PSG.edf, 7 x 8412000 (84120.0 s), ~12 kB, data not loaded>"
            ]
          },
          "metadata": {},
          "execution_count": 76
        }
      ]
    },
    {
      "cell_type": "code",
      "source": [
        "raw_test = mne.io.read_raw_edf(test_subject1[0], stim_channel='marker',\n",
        "                               misc=['rectal'])\n",
        "annot_test = mne.read_annotations(test_subject1[1])\n",
        "annot_test.crop(annot_test[1]['onset'] - 30 * 60,\n",
        "                annot_test[-2]['onset'] + 30 * 60)\n",
        "raw_test.set_annotations(annot_test, emit_warning=False)\n",
        "events_test, _ = mne.events_from_annotations(\n",
        "    raw_test, event_id=annotation_desc_2_event_id, chunk_duration=30.)\n",
        "epochs_test = mne.Epochs(raw=raw_test, events=events_test, event_id=event_id,\n",
        "                         tmin=0., tmax=tmax, baseline=None)\n",
        "\n",
        "print(epochs_test)"
      ],
      "metadata": {
        "colab": {
          "base_uri": "https://localhost:8080/"
        },
        "id": "-G4bnI-XJe_O",
        "outputId": "7d90079d-9a35-4e2f-c945-0ef429a221bf"
      },
      "execution_count": 77,
      "outputs": [
        {
          "output_type": "stream",
          "name": "stdout",
          "text": [
            "Extracting EDF parameters from /root/mne_data/physionet-sleep-data/SC4201E0-PSG.edf...\n",
            "EDF file detected\n",
            "Setting channel info structure...\n",
            "Creating raw.info structure...\n",
            "Used Annotations descriptions: ['Sleep stage 1', 'Sleep stage 2', 'Sleep stage 3', 'Sleep stage R', 'Sleep stage W']\n",
            "Not setting metadata\n",
            "Not setting metadata\n",
            "1022 matching events found\n",
            "No baseline correction applied\n",
            "0 projection items activated\n",
            "<Epochs |  1022 events (good & bad), 0 - 29.99 sec, baseline off, ~12 kB, data not loaded,\n",
            " 'Sleep stage 1': 39\n",
            " 'Sleep stage 2': 539\n",
            " 'Sleep stage 3/4': 4\n",
            " 'Sleep stage R': 177\n",
            " 'Sleep stage W': 263>\n"
          ]
        }
      ]
    },
    {
      "cell_type": "code",
      "source": [
        "%%time\n",
        "pipe = make_pipeline(FunctionTransformer(eeg_power_band, validate=False),\n",
        "                     RandomForestClassifier(n_estimators=100, random_state=42))\n",
        "\n",
        "# Train\n",
        "epochs_train_concat = mne.concatenate_epochs(epochs_train_lst)\n",
        "y_train = epochs_train_concat.events[:, 2]\n",
        "pipe.fit(epochs_train_concat, y_train)\n",
        "\n",
        "# Test\n",
        "y_pred = pipe.predict(epochs_test)\n",
        "\n",
        "# Assess the results\n",
        "y_test = epochs_test.events[:, 2]\n",
        "acc = accuracy_score(y_test, y_pred)\n",
        "\n",
        "print(\"Accuracy score: {}\".format(acc))"
      ],
      "metadata": {
        "colab": {
          "base_uri": "https://localhost:8080/"
        },
        "id": "6YojSbqLq4Hr",
        "outputId": "604ae87b-ede3-48fc-b199-cf0cbf3b60c5"
      },
      "execution_count": 78,
      "outputs": [
        {
          "output_type": "stream",
          "name": "stdout",
          "text": [
            "Loading data for 1002 events and 3000 original time points ...\n",
            "0 bad epochs dropped\n",
            "Loading data for 1002 events and 3000 original time points ...\n",
            "0 bad epochs dropped\n",
            "Loading data for 1002 events and 3000 original time points ...\n",
            "0 bad epochs dropped\n",
            "Loading data for 1002 events and 3000 original time points ...\n",
            "0 bad epochs dropped\n",
            "Loading data for 1002 events and 3000 original time points ...\n",
            "0 bad epochs dropped\n",
            "Loading data for 1002 events and 3000 original time points ...\n",
            "0 bad epochs dropped\n",
            "Loading data for 1002 events and 3000 original time points ...\n",
            "0 bad epochs dropped\n",
            "Loading data for 1002 events and 3000 original time points ...\n",
            "0 bad epochs dropped\n",
            "Loading data for 1002 events and 3000 original time points ...\n",
            "0 bad epochs dropped\n",
            "Loading data for 1002 events and 3000 original time points ...\n",
            "0 bad epochs dropped\n",
            "Loading data for 1002 events and 3000 original time points ...\n",
            "0 bad epochs dropped\n",
            "Loading data for 1002 events and 3000 original time points ...\n",
            "0 bad epochs dropped\n",
            "Loading data for 1002 events and 3000 original time points ...\n",
            "0 bad epochs dropped\n",
            "Loading data for 1002 events and 3000 original time points ...\n",
            "0 bad epochs dropped\n",
            "Loading data for 1002 events and 3000 original time points ...\n",
            "0 bad epochs dropped\n",
            "Loading data for 1002 events and 3000 original time points ...\n",
            "0 bad epochs dropped\n",
            "Loading data for 1002 events and 3000 original time points ...\n",
            "0 bad epochs dropped\n",
            "Loading data for 1002 events and 3000 original time points ...\n",
            "0 bad epochs dropped\n",
            "Loading data for 1002 events and 3000 original time points ...\n",
            "Loading data for 1002 events and 3000 original time points ...\n",
            "Loading data for 1002 events and 3000 original time points ...\n",
            "Loading data for 1002 events and 3000 original time points ...\n",
            "Loading data for 1002 events and 3000 original time points ...\n",
            "Loading data for 1002 events and 3000 original time points ...\n",
            "Loading data for 1002 events and 3000 original time points ...\n",
            "Loading data for 1002 events and 3000 original time points ...\n",
            "Loading data for 1002 events and 3000 original time points ...\n",
            "Loading data for 1002 events and 3000 original time points ...\n",
            "Loading data for 1002 events and 3000 original time points ...\n",
            "Loading data for 1002 events and 3000 original time points ...\n",
            "Loading data for 1002 events and 3000 original time points ...\n",
            "Loading data for 1002 events and 3000 original time points ...\n",
            "Loading data for 1002 events and 3000 original time points ...\n",
            "Loading data for 1002 events and 3000 original time points ...\n",
            "Loading data for 1002 events and 3000 original time points ...\n",
            "Loading data for 1002 events and 3000 original time points ...\n",
            "Not setting metadata\n",
            "Not setting metadata\n",
            "18036 matching events found\n",
            "No baseline correction applied\n",
            "0 bad epochs dropped\n",
            "Effective window size : 2.560 (s)\n",
            "Loading data for 1022 events and 3000 original time points ...\n",
            "0 bad epochs dropped\n",
            "Effective window size : 2.560 (s)\n",
            "Accuracy score: 0.6135029354207436\n",
            "CPU times: user 2min 15s, sys: 5.13 s, total: 2min 20s\n",
            "Wall time: 2min 21s\n"
          ]
        }
      ]
    },
    {
      "cell_type": "code",
      "source": [
        "print(confusion_matrix(y_test, y_pred))"
      ],
      "metadata": {
        "colab": {
          "base_uri": "https://localhost:8080/"
        },
        "id": "Olpf3kgBJL_W",
        "outputId": "fce4a8d5-22f2-4c67-ed8b-74b9f399fcd3"
      },
      "execution_count": 79,
      "outputs": [
        {
          "output_type": "stream",
          "name": "stdout",
          "text": [
            "[[171   0  10  17  65]\n",
            " [ 12   0  12   0  15]\n",
            " [ 11   0 411  31  86]\n",
            " [  0   0   2   2   0]\n",
            " [118   0  11   5  43]]\n"
          ]
        }
      ]
    },
    {
      "cell_type": "code",
      "source": [
        "print(classification_report(y_test, y_pred, target_names=event_id.keys()))"
      ],
      "metadata": {
        "colab": {
          "base_uri": "https://localhost:8080/"
        },
        "id": "FIhNvXd8NT2F",
        "outputId": "38d3a1f6-9e75-445e-d989-97594ccc8c90"
      },
      "execution_count": 80,
      "outputs": [
        {
          "output_type": "stream",
          "name": "stdout",
          "text": [
            "                 precision    recall  f1-score   support\n",
            "\n",
            "  Sleep stage W       0.55      0.65      0.59       263\n",
            "  Sleep stage 1       0.00      0.00      0.00        39\n",
            "  Sleep stage 2       0.92      0.76      0.83       539\n",
            "Sleep stage 3/4       0.04      0.50      0.07         4\n",
            "  Sleep stage R       0.21      0.24      0.22       177\n",
            "\n",
            "       accuracy                           0.61      1022\n",
            "      macro avg       0.34      0.43      0.34      1022\n",
            "   weighted avg       0.66      0.61      0.63      1022\n",
            "\n"
          ]
        },
        {
          "output_type": "stream",
          "name": "stderr",
          "text": [
            "/usr/local/lib/python3.7/dist-packages/sklearn/metrics/_classification.py:1308: UndefinedMetricWarning: Precision and F-score are ill-defined and being set to 0.0 in labels with no predicted samples. Use `zero_division` parameter to control this behavior.\n",
            "  _warn_prf(average, modifier, msg_start, len(result))\n",
            "/usr/local/lib/python3.7/dist-packages/sklearn/metrics/_classification.py:1308: UndefinedMetricWarning: Precision and F-score are ill-defined and being set to 0.0 in labels with no predicted samples. Use `zero_division` parameter to control this behavior.\n",
            "  _warn_prf(average, modifier, msg_start, len(result))\n",
            "/usr/local/lib/python3.7/dist-packages/sklearn/metrics/_classification.py:1308: UndefinedMetricWarning: Precision and F-score are ill-defined and being set to 0.0 in labels with no predicted samples. Use `zero_division` parameter to control this behavior.\n",
            "  _warn_prf(average, modifier, msg_start, len(result))\n"
          ]
        }
      ]
    },
    {
      "cell_type": "code",
      "source": [
        ""
      ],
      "metadata": {
        "id": "KELxrPmvNYbk"
      },
      "execution_count": 80,
      "outputs": []
    }
  ]
}