{
  "nbformat": 4,
  "nbformat_minor": 0,
  "metadata": {
    "colab": {
      "name": "Sleep stage classification.ipynb",
      "provenance": [],
      "collapsed_sections": []
    },
    "kernelspec": {
      "name": "python3",
      "display_name": "Python 3"
    },
    "language_info": {
      "name": "python"
    }
  },
  "cells": [
    {
      "cell_type": "code",
      "execution_count": 42,
      "metadata": {
        "id": "D2nAWxA6lJ-5"
      },
      "outputs": [],
      "source": [
        "# !pip install mne"
      ]
    },
    {
      "cell_type": "code",
      "source": [
        "import numpy as np\n",
        "import matplotlib.pyplot as plt\n",
        "\n",
        "import mne\n",
        "from mne.datasets.sleep_physionet.age import fetch_data\n",
        "from mne.time_frequency import psd_welch\n",
        "\n",
        "from sklearn.ensemble import RandomForestClassifier\n",
        "from sklearn.metrics import accuracy_score\n",
        "from sklearn.metrics import confusion_matrix\n",
        "from sklearn.metrics import classification_report\n",
        "from sklearn.pipeline import make_pipeline\n",
        "from sklearn.preprocessing import FunctionTransformer\n",
        "\n",
        "from tqdm import tqdm"
      ],
      "metadata": {
        "id": "mhxcJhvnlLki"
      },
      "execution_count": 43,
      "outputs": []
    },
    {
      "cell_type": "code",
      "source": [
        "train_subjects = fetch_data(subjects=[0, 1, 2, 3, 5, 6, 7, 8, 9, 11, 12, 13, 14, 15, 16], recording=[1])\n",
        "raw_train, annotations_train = [], []\n",
        "for i, subj in enumerate(train_subjects): \n",
        "  raw_train.append(mne.io.read_raw_edf(subj[0], stim_channel='marker', misc=['rectal']))\n",
        "  annotations_train.append(mne.read_annotations(subj[1]))\n",
        "  raw_train[i].set_annotations(annotations_train[i], emit_warning=False)"
      ],
      "metadata": {
        "colab": {
          "base_uri": "https://localhost:8080/"
        },
        "id": "6rcwC_ftlNvu",
        "outputId": "4327156d-3f63-4197-918e-f77c188c273c"
      },
      "execution_count": 48,
      "outputs": [
        {
          "output_type": "stream",
          "name": "stdout",
          "text": [
            "Using default location ~/mne_data for PHYSIONET_SLEEP...\n",
            "Extracting EDF parameters from /root/mne_data/physionet-sleep-data/SC4001E0-PSG.edf...\n",
            "EDF file detected\n",
            "Setting channel info structure...\n",
            "Creating raw.info structure...\n"
          ]
        }
      ]
    },
    {
      "cell_type": "code",
      "source": [
        "annotation_desc_2_event_id = {'Sleep stage W': 1,\n",
        "                              'Sleep stage 1': 2,\n",
        "                              'Sleep stage 2': 3,\n",
        "                              'Sleep stage 3': 4,\n",
        "                              'Sleep stage 4': 4,\n",
        "                              'Sleep stage R': 5}\n",
        "\n",
        "# keep last 30-min wake events before sleep and first 30-min wake events after\n",
        "# sleep and redefine annotations on raw data\n",
        "for i, annot_train in enumerate(annotations_train):\n",
        "  annotations_train[i].crop(annot_train[1]['onset'] - 30 * 60,\n",
        "                  annot_train[-2]['onset'] + 30 * 60)\n",
        "  raw_train[i].set_annotations(annot_train, emit_warning=False)\n",
        "\n",
        "  events_train, _ = mne.events_from_annotations(\n",
        "      raw_train[i], event_id=annotation_desc_2_event_id, chunk_duration=30.)\n",
        "\n",
        "  # create a new event_id that unifies stages 3 and 4\n",
        "  event_id = {'Sleep stage W': 1,\n",
        "              'Sleep stage 1': 2,\n",
        "              'Sleep stage 2': 3,\n",
        "              'Sleep stage 3/4': 4,\n",
        "              'Sleep stage R': 5}\n",
        "\n",
        "  # plot events\n",
        "  fig = mne.viz.plot_events(events_train, event_id=event_id,\n",
        "                            sfreq=raw_train[i].info['sfreq'],\n",
        "                            first_samp=events_train[0, 0])\n",
        "\n",
        "  # keep the color-code for further plotting\n",
        "  stage_colors = plt.rcParams['axes.prop_cycle'].by_key()['color']\n",
        "\n",
        "plt.savefig(\"events.png\")"
      ],
      "metadata": {
        "colab": {
          "base_uri": "https://localhost:8080/",
          "height": 314
        },
        "id": "GrZQS5uTm686",
        "outputId": "04ba8827-4fe0-4d3e-8c20-d1e00a1b1889"
      },
      "execution_count": 97,
      "outputs": [
        {
          "output_type": "stream",
          "name": "stdout",
          "text": [
            "Used Annotations descriptions: ['Sleep stage 1', 'Sleep stage 2', 'Sleep stage 3', 'Sleep stage 4', 'Sleep stage R', 'Sleep stage W']\n"
          ]
        },
        {
          "output_type": "display_data",
          "data": {
            "image/png": "[encoded data removed]",
            "text/plain": [
              "<Figure size 432x288 with 1 Axes>"
            ]
          },
          "metadata": {
            "needs_background": "light"
          }
        },
        {
          "output_type": "display_data",
          "data": {
            "text/plain": [
              "<Figure size 432x288 with 0 Axes>"
            ]
          },
          "metadata": {}
        }
      ]
    },
    {
      "cell_type": "code",
      "source": [
        "fig, axs = plt.subplots(figsize=(20, 10))\n",
        "epochs_train_lst = []\n",
        "for i, raw in tqdm(enumerate(raw_train)):\n",
        "  tmax = 30. - 1. / raw.info['sfreq']  # tmax in included\n",
        "\n",
        "  epochs_train = mne.Epochs(raw=raw, events=events_train,\n",
        "                            event_id=event_id, tmin=0., tmax=tmax, baseline=None)\n",
        "  epochs_train_lst.append(epochs_train)\n",
        "  stages = sorted(event_id.keys())\n",
        "\n",
        "  for stage, color in zip(stages, stage_colors):\n",
        "    epochs_train[stage].plot_psd(area_mode=None, color=color, ax=axs,\n",
        "                          fmin=0.1, fmax=20., show=False,\n",
        "                          average=True, spatial_colors=False)\n",
        "    axs.set(title=\"Subject1\", xlabel='Frequency (Hz)')\n",
        "\n",
        "  axs.set(ylabel='µV^2/Hz (dB)')\n",
        "  axs.legend(axs.lines[2::3], stages)\n",
        "\n",
        "plt.show()\n",
        "plt.savefig(\"energy.png\")\n"
      ],
      "metadata": {
        "colab": {
          "base_uri": "https://localhost:8080/",
          "height": 1000
        },
        "id": "GHJTLSXrlpHQ",
        "outputId": "48799ea5-cde1-4cc9-f729-44c93178ebe6"
      },
      "execution_count": 98,
      "outputs": [
        {
          "output_type": "stream",
          "name": "stderr",
          "text": [
            "\r0it [00:00, ?it/s]"
          ]
        },
        {
          "output_type": "stream",
          "name": "stdout",
          "text": [
            "Not setting metadata\n",
            "Not setting metadata\n",
            "836 matching events found\n",
            "No baseline correction applied\n",
            "0 projection items activated\n",
            "Loading data for 58 events and 3000 original time points ...\n",
            "0 bad epochs dropped\n",
            "    Using multitaper spectrum estimation with 7 DPSS windows\n",
            "Loading data for 250 events and 3000 original time points ...\n",
            "0 bad epochs dropped\n",
            "    Using multitaper spectrum estimation with 7 DPSS windows\n",
            "Loading data for 220 events and 3000 original time points ...\n",
            "0 bad epochs dropped\n",
            "    Using multitaper spectrum estimation with 7 DPSS windows\n",
            "Loading data for 125 events and 3000 original time points ...\n",
            "0 bad epochs dropped\n",
            "    Using multitaper spectrum estimation with 7 DPSS windows\n",
            "Loading data for 183 events and 3000 original time points ...\n",
            "0 bad epochs dropped\n",
            "    Using multitaper spectrum estimation with 7 DPSS windows\n"
          ]
        },
        {
          "output_type": "stream",
          "name": "stderr",
          "text": [
            "1it [00:07,  7.27s/it]\n"
          ]
        },
        {
          "output_type": "display_data",
          "data": {
            "image/png": "[encoded data removed]",
            "text/plain": [
              "<Figure size 1440x720 with 1 Axes>"
            ]
          },
          "metadata": {
            "needs_background": "light"
          }
        },
        {
          "output_type": "display_data",
          "data": {
            "text/plain": [
              "<Figure size 432x288 with 0 Axes>"
            ]
          },
          "metadata": {}
        }
      ]
    },
    {
      "cell_type": "code",
      "source": [
        "def eeg_power_band(epochs):\n",
        "    \"\"\"EEG relative power band feature extraction.\n",
        "\n",
        "    This function takes an ``mne.Epochs`` object and creates EEG features based\n",
        "    on relative power in specific frequency bands that are compatible with\n",
        "    scikit-learn.\n",
        "\n",
        "    Parameters\n",
        "    ----------\n",
        "    epochs : Epochs\n",
        "        The data.\n",
        "\n",
        "    Returns\n",
        "    -------\n",
        "    X : numpy array of shape [n_samples, 5]\n",
        "        Transformed data.\n",
        "    \"\"\"\n",
        "    # specific frequency bands\n",
        "    FREQ_BANDS = {\"delta\": [0.5, 4.5],\n",
        "                  \"theta\": [4.5, 8.5],\n",
        "                  \"alpha\": [8.5, 11.5],\n",
        "                  \"sigma\": [11.5, 15.5],\n",
        "                  \"beta\": [15.5, 30]}\n",
        "\n",
        "    psds, freqs = psd_welch(epochs, picks='eeg', fmin=0.5, fmax=30.)\n",
        "    # Normalize the PSDs\n",
        "    psds /= np.sum(psds, axis=-1, keepdims=True)\n",
        "\n",
        "    X = []\n",
        "    for fmin, fmax in FREQ_BANDS.values():\n",
        "        psds_band = psds[:, :, (freqs >= fmin) & (freqs < fmax)].mean(axis=-1)\n",
        "        X.append(psds_band.reshape(len(psds), -1))\n",
        "\n",
        "    return np.concatenate(X, axis=1)"
      ],
      "metadata": {
        "id": "TAiOf5WRAr65"
      },
      "execution_count": 94,
      "outputs": []
    },
    {
      "cell_type": "code",
      "source": [
        "test_subject1, test_subject2 = fetch_data(subjects=[18, 20], recording=[1])\n",
        "\n",
        "raw_test = mne.io.read_raw_edf(test_subject1[0], stim_channel='marker', misc=['rectal'])\n",
        "\n",
        "annotations_test = mne.read_annotations(test_subject1[1])\n",
        "raw_test.set_annotations(annotations_test, emit_warning=False)"
      ],
      "metadata": {
        "colab": {
          "base_uri": "https://localhost:8080/",
          "height": 383
        },
        "id": "MhzxwBYCLk79",
        "outputId": "dac4edc7-5bd7-4a84-95e3-2e46f3ae816a"
      },
      "execution_count": 95,
      "outputs": [
        {
          "output_type": "stream",
          "name": "stdout",
          "text": [
            "Using default location ~/mne_data for PHYSIONET_SLEEP...\n",
            "Extracting EDF parameters from /root/mne_data/physionet-sleep-data/SC4181E0-PSG.edf...\n",
            "EDF file detected\n",
            "Setting channel info structure...\n",
            "Creating raw.info structure...\n"
          ]
        },
        {
          "output_type": "execute_result",
          "data": {
            "text/html": [
              "\n",
              "\n",
              "<table class=\"table table-hover table-striped table-sm table-responsive small\">\n",
              "    <tr>\n",
              "        <th>Measurement date</th>\n",
              "        <td>July 19, 1989  16:00:00 GMT</td>\n",
              "        \n",
              "    </tr>\n",
              "    <tr>\n",
              "        <th>Experimenter</th>\n",
              "<td>Unknown</td>\n",
              "    </tr>\n",
              "        <th>Participant</th>\n",
              "<td>Unknown</td>\n",
              "    </tr>\n",
              "    <tr>\n",
              "        <th>Digitized points</th>\n",
              "        <td>Not available</td>\n",
              "    </tr>\n",
              "    <tr>\n",
              "        <th>Good channels</th>\n",
              "        <td>7 EEG</td>\n",
              "    </tr>\n",
              "    <tr>\n",
              "        <th>Bad channels</th>\n",
              "        <td>None</td>\n",
              "    </tr>\n",
              "    <tr>\n",
              "        <th>EOG channels</th>\n",
              "        <td>Not available</td>\n",
              "    </tr>\n",
              "    <tr>\n",
              "        <th>ECG channels</th>\n",
              "        <td>Not available</td>\n",
              "    <tr>\n",
              "        <th>Sampling frequency</th>\n",
              "        <td>100.00 Hz</td>\n",
              "    </tr>\n",
              "    <tr>\n",
              "        <th>Highpass</th>\n",
              "        <td>0.50 Hz</td>\n",
              "    </tr>\n",
              "    <tr>\n",
              "        <th>Lowpass</th>\n",
              "        <td>100.00 Hz</td>\n",
              "    </tr>\n",
              "\n",
              "    <tr>\n",
              "        <th>Filenames</th>\n",
              "        <td>SC4181E0-PSG.edf</td>\n",
              "    </tr>\n",
              "    <tr>\n",
              "        <th>Duration</th>\n",
              "        <td>22:57:59 (HH:MM:SS)</td>\n",
              "    </tr>\n",
              "</table>\n"
            ],
            "text/plain": [
              "<RawEDF | SC4181E0-PSG.edf, 7 x 8268000 (82680.0 s), ~12 kB, data not loaded>"
            ]
          },
          "metadata": {},
          "execution_count": 95
        }
      ]
    },
    {
      "cell_type": "code",
      "source": [
        "raw_test = mne.io.read_raw_edf(test_subject1[0], stim_channel='marker',\n",
        "                               misc=['rectal'])\n",
        "annot_test = mne.read_annotations(test_subject1[1])\n",
        "annot_test.crop(annot_test[1]['onset'] - 30 * 60,\n",
        "                annot_test[-2]['onset'] + 30 * 60)\n",
        "raw_test.set_annotations(annot_test, emit_warning=False)\n",
        "events_test, _ = mne.events_from_annotations(\n",
        "    raw_test, event_id=annotation_desc_2_event_id, chunk_duration=30.)\n",
        "epochs_test = mne.Epochs(raw=raw_test, events=events_test, event_id=event_id,\n",
        "                         tmin=0., tmax=tmax, baseline=None)\n",
        "\n",
        "print(epochs_test)"
      ],
      "metadata": {
        "colab": {
          "base_uri": "https://localhost:8080/"
        },
        "id": "-G4bnI-XJe_O",
        "outputId": "d53d5cb6-0d22-4604-ecfa-f4024aa76f4b"
      },
      "execution_count": 96,
      "outputs": [
        {
          "output_type": "stream",
          "name": "stdout",
          "text": [
            "Extracting EDF parameters from /root/mne_data/physionet-sleep-data/SC4181E0-PSG.edf...\n",
            "EDF file detected\n",
            "Setting channel info structure...\n",
            "Creating raw.info structure...\n",
            "Used Annotations descriptions: ['Sleep stage 1', 'Sleep stage 2', 'Sleep stage 3', 'Sleep stage 4', 'Sleep stage R', 'Sleep stage W']\n",
            "Not setting metadata\n",
            "Not setting metadata\n",
            "964 matching events found\n",
            "No baseline correction applied\n",
            "0 projection items activated\n",
            "<Epochs |  964 events (good & bad), 0 - 29.99 sec, baseline off, ~12 kB, data not loaded,\n",
            " 'Sleep stage 1': 29\n",
            " 'Sleep stage 2': 388\n",
            " 'Sleep stage 3/4': 291\n",
            " 'Sleep stage R': 118\n",
            " 'Sleep stage W': 138>\n"
          ]
        }
      ]
    },
    {
      "cell_type": "code",
      "source": [
        "%%time\n",
        "pipe = make_pipeline(FunctionTransformer(eeg_power_band, validate=False),\n",
        "                     RandomForestClassifier(n_estimators=100, random_state=42))\n",
        "\n",
        "# Train\n",
        "epochs_train_concat = mne.concatenate_epochs(epochs_train_lst)\n",
        "y_train = epochs_train_concat.events[:, 2]\n",
        "pipe.fit(epochs_train_concat, y_train)\n",
        "\n",
        "# Test\n",
        "y_pred = pipe.predict(epochs_test)\n",
        "\n",
        "# Assess the results\n",
        "y_test = epochs_test.events[:, 2]\n",
        "acc = accuracy_score(y_test, y_pred)\n",
        "\n",
        "print(\"Accuracy score: {}\".format(acc))"
      ],
      "metadata": {
        "colab": {
          "base_uri": "https://localhost:8080/"
        },
        "id": "6YojSbqLq4Hr",
        "outputId": "17bd0a05-2bb5-410f-f97c-b0dfb6328858"
      },
      "execution_count": 81,
      "outputs": [
        {
          "output_type": "stream",
          "name": "stdout",
          "text": [
            "Loading data for 841 events and 3000 original time points ...\n",
            "Not setting metadata\n",
            "Not setting metadata\n",
            "841 matching events found\n",
            "No baseline correction applied\n",
            "0 bad epochs dropped\n",
            "Effective window size : 2.560 (s)\n",
            "Loading data for 964 events and 3000 original time points ...\n",
            "0 bad epochs dropped\n",
            "Effective window size : 2.560 (s)\n",
            "Accuracy score: 0.745850622406639\n",
            "CPU times: user 14 s, sys: 176 ms, total: 14.2 s\n",
            "Wall time: 14.9 s\n"
          ]
        }
      ]
    },
    {
      "cell_type": "code",
      "source": [
        "print(confusion_matrix(y_test, y_pred))\n",
        "\n",
        "import pandas as pd\n",
        "pd.DataFrame(confusion_matrix(y_test, y_pred))"
      ],
      "metadata": {
        "colab": {
          "base_uri": "https://localhost:8080/",
          "height": 293
        },
        "id": "Olpf3kgBJL_W",
        "outputId": "e94f8fac-0214-4dfd-b67c-946829aa46df"
      },
      "execution_count": 84,
      "outputs": [
        {
          "output_type": "stream",
          "name": "stdout",
          "text": [
            "[[128   9   0   0   1]\n",
            " [ 12  13   0   0   4]\n",
            " [ 11  28 264  36  49]\n",
            " [  5   2  41 243   0]\n",
            " [ 13  14  20   0  71]]\n"
          ]
        },
        {
          "output_type": "execute_result",
          "data": {
            "text/html": [
              "\n",
              "  <div id=\"df-18394cac-a5da-4ffa-a465-2e4d03db7d71\">\n",
              "    <div class=\"colab-df-container\">\n",
              "      <div>\n",
              "<style scoped>\n",
              "    .dataframe tbody tr th:only-of-type {\n",
              "        vertical-align: middle;\n",
              "    }\n",
              "\n",
              "    .dataframe tbody tr th {\n",
              "        vertical-align: top;\n",
              "    }\n",
              "\n",
              "    .dataframe thead th {\n",
              "        text-align: right;\n",
              "    }\n",
              "</style>\n",
              "<table border=\"1\" class=\"dataframe\">\n",
              "  <thead>\n",
              "    <tr style=\"text-align: right;\">\n",
              "      <th></th>\n",
              "      <th>0</th>\n",
              "      <th>1</th>\n",
              "      <th>2</th>\n",
              "      <th>3</th>\n",
              "      <th>4</th>\n",
              "    </tr>\n",
              "  </thead>\n",
              "  <tbody>\n",
              "    <tr>\n",
              "      <th>0</th>\n",
              "      <td>128</td>\n",
              "      <td>9</td>\n",
              "      <td>0</td>\n",
              "      <td>0</td>\n",
              "      <td>1</td>\n",
              "    </tr>\n",
              "    <tr>\n",
              "      <th>1</th>\n",
              "      <td>12</td>\n",
              "      <td>13</td>\n",
              "      <td>0</td>\n",
              "      <td>0</td>\n",
              "      <td>4</td>\n",
              "    </tr>\n",
              "    <tr>\n",
              "      <th>2</th>\n",
              "      <td>11</td>\n",
              "      <td>28</td>\n",
              "      <td>264</td>\n",
              "      <td>36</td>\n",
              "      <td>49</td>\n",
              "    </tr>\n",
              "    <tr>\n",
              "      <th>3</th>\n",
              "      <td>5</td>\n",
              "      <td>2</td>\n",
              "      <td>41</td>\n",
              "      <td>243</td>\n",
              "      <td>0</td>\n",
              "    </tr>\n",
              "    <tr>\n",
              "      <th>4</th>\n",
              "      <td>13</td>\n",
              "      <td>14</td>\n",
              "      <td>20</td>\n",
              "      <td>0</td>\n",
              "      <td>71</td>\n",
              "    </tr>\n",
              "  </tbody>\n",
              "</table>\n",
              "</div>\n",
              "      <button class=\"colab-df-convert\" onclick=\"convertToInteractive('df-18394cac-a5da-4ffa-a465-2e4d03db7d71')\"\n",
              "              title=\"Convert this dataframe to an interactive table.\"\n",
              "              style=\"display:none;\">\n",
              "        \n",
              "  <svg xmlns=\"http://www.w3.org/2000/svg\" height=\"24px\"viewBox=\"0 0 24 24\"\n",
              "       width=\"24px\">\n",
              "    <path d=\"M0 0h24v24H0V0z\" fill=\"none\"/>\n",
              "    <path d=\"M18.56 5.44l.94 2.06.94-2.06 2.06-.94-2.06-.94-.94-2.06-.94 2.06-2.06.94zm-11 1L8.5 8.5l.94-2.06 2.06-.94-2.06-.94L8.5 2.5l-.94 2.06-2.06.94zm10 10l.94 2.06.94-2.06 2.06-.94-2.06-.94-.94-2.06-.94 2.06-2.06.94z\"/><path d=\"M17.41 7.96l-1.37-1.37c-.4-.4-.92-.59-1.43-.59-.52 0-1.04.2-1.43.59L10.3 9.45l-7.72 7.72c-.78.78-.78 2.05 0 2.83L4 21.41c.39.39.9.59 1.41.59.51 0 1.02-.2 1.41-.59l7.78-7.78 2.81-2.81c.8-.78.8-2.07 0-2.86zM5.41 20L4 18.59l7.72-7.72 1.47 1.35L5.41 20z\"/>\n",
              "  </svg>\n",
              "      </button>\n",
              "      \n",
              "  <style>\n",
              "    .colab-df-container {\n",
              "      display:flex;\n",
              "      flex-wrap:wrap;\n",
              "      gap: 12px;\n",
              "    }\n",
              "\n",
              "    .colab-df-convert {\n",
              "      background-color: #E8F0FE;\n",
              "      border: none;\n",
              "      border-radius: 50%;\n",
              "      cursor: pointer;\n",
              "      display: none;\n",
              "      fill: #1967D2;\n",
              "      height: 32px;\n",
              "      padding: 0 0 0 0;\n",
              "      width: 32px;\n",
              "    }\n",
              "\n",
              "    .colab-df-convert:hover {\n",
              "      background-color: #E2EBFA;\n",
              "      box-shadow: 0px 1px 2px rgba(60, 64, 67, 0.3), 0px 1px 3px 1px rgba(60, 64, 67, 0.15);\n",
              "      fill: #174EA6;\n",
              "    }\n",
              "\n",
              "    [theme=dark] .colab-df-convert {\n",
              "      background-color: #3B4455;\n",
              "      fill: #D2E3FC;\n",
              "    }\n",
              "\n",
              "    [theme=dark] .colab-df-convert:hover {\n",
              "      background-color: #434B5C;\n",
              "      box-shadow: 0px 1px 3px 1px rgba(0, 0, 0, 0.15);\n",
              "      filter: drop-shadow(0px 1px 2px rgba(0, 0, 0, 0.3));\n",
              "      fill: #FFFFFF;\n",
              "    }\n",
              "  </style>\n",
              "\n",
              "      <script>\n",
              "        const buttonEl =\n",
              "          document.querySelector('#df-18394cac-a5da-4ffa-a465-2e4d03db7d71 button.colab-df-convert');\n",
              "        buttonEl.style.display =\n",
              "          google.colab.kernel.accessAllowed ? 'block' : 'none';\n",
              "\n",
              "        async function convertToInteractive(key) {\n",
              "          const element = document.querySelector('#df-18394cac-a5da-4ffa-a465-2e4d03db7d71');\n",
              "          const dataTable =\n",
              "            await google.colab.kernel.invokeFunction('convertToInteractive',\n",
              "                                                     [key], {});\n",
              "          if (!dataTable) return;\n",
              "\n",
              "          const docLinkHtml = 'Like what you see? Visit the ' +\n",
              "            '<a target=\"_blank\" href=https://colab.research.google.com/notebooks/data_table.ipynb>data table notebook</a>'\n",
              "            + ' to learn more about interactive tables.';\n",
              "          element.innerHTML = '';\n",
              "          dataTable['output_type'] = 'display_data';\n",
              "          await google.colab.output.renderOutput(dataTable, element);\n",
              "          const docLink = document.createElement('div');\n",
              "          docLink.innerHTML = docLinkHtml;\n",
              "          element.appendChild(docLink);\n",
              "        }\n",
              "      </script>\n",
              "    </div>\n",
              "  </div>\n",
              "  "
            ],
            "text/plain": [
              "     0   1    2    3   4\n",
              "0  128   9    0    0   1\n",
              "1   12  13    0    0   4\n",
              "2   11  28  264   36  49\n",
              "3    5   2   41  243   0\n",
              "4   13  14   20    0  71"
            ]
          },
          "metadata": {},
          "execution_count": 84
        }
      ]
    },
    {
      "cell_type": "code",
      "source": [
        "print(classification_report(y_test, y_pred, target_names=event_id.keys()))"
      ],
      "metadata": {
        "colab": {
          "base_uri": "https://localhost:8080/"
        },
        "id": "FIhNvXd8NT2F",
        "outputId": "51c4659f-c763-40cb-cedb-436858db9cd1"
      },
      "execution_count": 85,
      "outputs": [
        {
          "output_type": "stream",
          "name": "stdout",
          "text": [
            "                 precision    recall  f1-score   support\n",
            "\n",
            "  Sleep stage W       0.76      0.93      0.83       138\n",
            "  Sleep stage 1       0.20      0.45      0.27        29\n",
            "  Sleep stage 2       0.81      0.68      0.74       388\n",
            "Sleep stage 3/4       0.87      0.84      0.85       291\n",
            "  Sleep stage R       0.57      0.60      0.58       118\n",
            "\n",
            "       accuracy                           0.75       964\n",
            "      macro avg       0.64      0.70      0.66       964\n",
            "   weighted avg       0.77      0.75      0.75       964\n",
            "\n"
          ]
        }
      ]
    },
    {
      "cell_type": "code",
      "source": [
        ""
      ],
      "metadata": {
        "id": "KELxrPmvNYbk"
      },
      "execution_count": 78,
      "outputs": []
    }
  ]
}